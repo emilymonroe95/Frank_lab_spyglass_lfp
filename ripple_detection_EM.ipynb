{
 "cells": [
  {
   "cell_type": "code",
   "execution_count": 1,
   "id": "b0e73d79-5f3d-46de-bcdd-f87dd8667eef",
   "metadata": {},
   "outputs": [],
   "source": [
    "#ripple detection code "
   ]
  },
  {
   "cell_type": "code",
   "execution_count": null,
   "id": "8f7c03a0-0cad-494e-b0ea-8f50edaf974d",
   "metadata": {},
   "outputs": [],
   "source": [
    "lfp_pos_df"
   ]
  },
  {
   "cell_type": "code",
   "execution_count": null,
   "id": "b8466648-f367-4125-a579-1c1f66810ef1",
   "metadata": {},
   "outputs": [],
   "source": [
    "lfp_sampling_rate = (LFPBand & {'nwb_file_name' : nwb_file_name,\n",
    "                               'filter_name' : 'Ripple 150-250 Hz'}).fetch('lfp_band_sampling_rate')\n",
    "\n",
    "# Get animal speed upsampled to LFP sampling rate\n",
    "lfp_pos_df = (IntervalPositionInfo & {'nwb_file_name' : nwb_file_name,\n",
    "                                      'interval_list_name' : 'pos 0 valid times',\n",
    "                                      'position_info_param_name' : 'default_lfp'}).fetch1_dataframe()\n",
    "\n",
    "# Head speed in cm/s - because that is a param of the ripple detection detection \n",
    "head_speed = np.asarray(lfp_pos_df.head_speed)\n",
    "\n",
    "# Position timestamps in s\n",
    "pos_time = lfp_pos_df.index\n",
    "\n",
    "# Get ripple-filtered LFP\n",
    "lfp_ripple_object = (LFPBand & {'nwb_file_name' : nwb_file_name,\n",
    "                                'filter_name' : 'Ripple 150-250 Hz'}).fetch_nwb()[0]\n",
    "\n",
    "# Ripple-filtered LFP in AD units\n",
    "# No need to convert to volts because ripple detection occurs on standardized data\n",
    "lfp_ripple = np.asarray( lfp_ripple_object['filtered_data'].data, dtype='double' )\n",
    "\n",
    "lfp_time = lfp_ripple_object['filtered_data'].timestamps[:]\n",
    "\n",
    "lfp_interval_list = (IntervalList & {'nwb_file_name' : nwb_file_name,\n",
    "                                     'interval_list_name' : 'lfp valid times'}).fetch1('valid_times')\n",
    "position_interval_list = (IntervalList & {'nwb_file_name' : nwb_file_name,\n",
    "                                          'interval_list_name' : 'pos 0 valid times'}).fetch1('valid_times')\n",
    "\n",
    "overlap_interval_list = interval_list_intersect(lfp_interval_list, position_interval_list)\n",
    "\n",
    "pos_ind, lfp_ind = find_overlapping_times([pos_time, lfp_time], overlap_interval_list)\n",
    "##############\n",
    "position_df = pd.DataFrame(pos_time[pos_ind],index =pos_time[pos_ind] )\n",
    "position_df['speed']= head_speed[pos_ind]\n",
    "\n",
    "# position_df.time\n",
    "position_df\n",
    "\n",
    "new_index = pd.Index(np.unique(np.concatenate(\n",
    "                (position_df.time, lfp_time[lfp_ind]))), name='time1')\n",
    "\n",
    "new_index\n",
    "\n",
    "speed_df = (position_df.reindex(index=new_index)\n",
    "               .interpolate(method='linear')\n",
    "               .reindex(index=lfp_time[lfp_ind]))\n",
    "speed_df\n",
    "#############\n",
    "lfp_electrode_ids = lfp_ripple_object['filtered_data'].electrodes[:].index\n",
    "electrode_groups = [(Electrode() & {'nwb_file_name' : nwb_file_name,\n",
    "                                    'electrode_id' : lfp_electrode}).fetch1('electrode_group_name')\n",
    "                     for lfp_electrode in lfp_electrode_ids]\n",
    "\n",
    "tetrode_ind = np.asarray( [int(group_name) <= 23 for group_name in electrode_groups] )\n",
    "tetrode_ind[[4, 5, 17]] = False\n",
    "tetrode_ind\n",
    "\n",
    "\n",
    "ripple_data_ind = np.ix_(lfp_ind, tetrode_ind)\n",
    "ripple_data_ind\n",
    "\n",
    "ripple_times_df = Kay_ripple_detector(lfp_time[lfp_ind],\n",
    "                                      lfp_ripple[ripple_data_ind],\n",
    "                                      np.array(speed_df.speed.to_list()),\n",
    "                                      lfp_sampling_rate,\n",
    "                                      speed_threshold=4.0,\n",
    "                                      minimum_duration=0.015,\n",
    "                                      zscore_threshold=2.0,\n",
    "                                      smoothing_sigma=0.004,\n",
    "                                      close_ripple_threshold=0.0)"
   ]
  }
 ],
 "metadata": {
  "kernelspec": {
   "display_name": "Python [conda env:spyglass] *",
   "language": "python",
   "name": "conda-env-spyglass-py"
  },
  "language_info": {
   "codemirror_mode": {
    "name": "ipython",
    "version": 3
   },
   "file_extension": ".py",
   "mimetype": "text/x-python",
   "name": "python",
   "nbconvert_exporter": "python",
   "pygments_lexer": "ipython3",
   "version": "3.8.13"
  }
 },
 "nbformat": 4,
 "nbformat_minor": 5
}
