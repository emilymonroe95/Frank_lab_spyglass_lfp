{
 "cells": [
  {
   "cell_type": "code",
   "execution_count": 2,
   "id": "943df09f-3d1b-4428-86ed-bc39ad9aa0ad",
   "metadata": {},
   "outputs": [],
   "source": [
    "#lfp filter breakdown \n"
   ]
  },
  {
   "cell_type": "code",
   "execution_count": 39,
   "id": "d484344b-426b-4a71-ab15-787fb17351eb",
   "metadata": {},
   "outputs": [],
   "source": [
    "# run this cell\n",
    "import pynwb\n",
    "import os\n",
    "\n",
    "#DataJoint and DataJoint schema\n",
    "import datajoint as dj\n",
    "\n",
    "## We also import a bunch of tables so that we can call them easily\n",
    "#from nwb_datajoint.common import (RawPosition, HeadDir, Speed, LinPos, StateScriptFile, VideoFile,\n",
    "#                                  DataAcquisitionDevice, CameraDevice, Probe,\n",
    "#                                  DIOEvents,\n",
    "#                                  ElectrodeGroup, Electrode, Raw, SampleCount,\n",
    "#                                  LFPSelection, LFP, LFPBandSelection, LFPBand,\n",
    "#                                  SortGroup, SpikeSorting, SpikeSorter, SpikeSorterParameters, SpikeSortingWaveformParameters, SpikeSortingParameters, SpikeSortingMetrics, CuratedSpikeSorting,\\\n",
    "#                                  FirFilter,\n",
    "#                                  IntervalList, SortInterval,\n",
    "#                                  Lab, LabMember, LabTeam, Institution,\n",
    "#                                  BrainRegion,\n",
    "#                                  SensorData,\n",
    "#                                  Session, ExperimenterList,\n",
    "#                                  Subject,\n",
    "#                                  Task, TaskEpoch,\n",
    "#                                  Nwbfile, AnalysisNwbfile, NwbfileKachery, AnalysisNwbfileKachery,\n",
    "#                                  interval_list_contains,\n",
    "#                                  interval_list_contains_ind,\n",
    "#                                  interval_list_excludes,\n",
    "#                                  interval_list_excludes_ind,\n",
    "#                                  interval_list_intersect,\n",
    "#                                  get_electrode_indices)\n",
    "\n",
    "from nwb_datajoint.common import (RawPosition, HeadDir, Speed, LinPos, StateScriptFile, VideoFile,\n",
    "                                  DataAcquisitionDevice, CameraDevice, Probe,\n",
    "                                  DIOEvents,\n",
    "                                  ElectrodeGroup, Electrode, Raw, SampleCount,\n",
    "                                  LFPSelection, LFP, LFPBandSelection, LFPBand,\n",
    "                                  SortGroup, SpikeSortingFilterParameters, SpikeSortingArtifactDetectionParameters,\n",
    "                                  SpikeSortingRecordingSelection, SpikeSortingRecording, \n",
    "                                  SpikeSortingWorkspace, \n",
    "                                  SpikeSorter, SpikeSorterParameters, SortingID,\n",
    "                                  SpikeSortingSelection, SpikeSorting, \n",
    "                                  SpikeSortingMetricParameters,\n",
    "                                  ModifySortingParameters, ModifySortingSelection, ModifySorting, \n",
    "                                  AutomaticCurationParameters, AutomaticCurationSelection,\n",
    "                                  AutomaticCuration,\n",
    "                                  CuratedSpikeSortingSelection, CuratedSpikeSorting,\n",
    "                                  UnitInclusionParameters,\n",
    "                                  FirFilter,\n",
    "                                  IntervalList, SortInterval,\n",
    "                                  Lab, LabMember, LabTeam, Institution,\n",
    "                                  BrainRegion,\n",
    "                                  SensorData,\n",
    "                                  Session, ExperimenterList,\n",
    "                                  Subject,\n",
    "                                  Task, TaskEpoch,\n",
    "                                  Nwbfile, AnalysisNwbfile, NwbfileKachery, AnalysisNwbfileKachery,\n",
    "                                 get_electrode_indices,IntervalList, interval_list_censor, interval_list_contains_ind, interval_list_intersect)  # noqa: F401)\n",
    "\n",
    "# from .common_interval import \n",
    "\n",
    "\n",
    "import warnings\n",
    "warnings.simplefilter('ignore', category=DeprecationWarning)\n",
    "warnings.simplefilter('ignore', category=ResourceWarning)"
   ]
  },
  {
   "cell_type": "code",
   "execution_count": 14,
   "id": "af361a60-e284-4e67-b203-c18621609b50",
   "metadata": {},
   "outputs": [],
   "source": [
    "from nwb_datajoint.common import get_electrode_indices\n",
    "import numpy as np"
   ]
  },
  {
   "cell_type": "code",
   "execution_count": 11,
   "id": "8490a5a4-002b-4688-9261-1b6a8d6b365c",
   "metadata": {},
   "outputs": [],
   "source": [
    "nwb_file_name = 'beans20190718_emonroe_.nwb'\n",
    "key=dict()\n",
    "key['nwb_file_name'] = nwb_file_name\n"
   ]
  },
  {
   "cell_type": "code",
   "execution_count": 15,
   "id": "91c327ae-0815-472d-8523-ee433041b8e9",
   "metadata": {},
   "outputs": [
    {
     "name": "stdout",
     "output_type": "stream",
     "text": [
      "LFP: found 5 of 5 intervals > 1.0 sec long.\n"
     ]
    }
   ],
   "source": [
    "rawdata = Raw().nwb_object(key)\n",
    "sampling_rate, interval_list_name = (Raw() & key).fetch1('sampling_rate', 'interval_list_name')\n",
    "sampling_rate = int(np.round(sampling_rate))\n",
    "\n",
    "valid_times = (IntervalList() & {'nwb_file_name': key['nwb_file_name'],'interval_list_name': interval_list_name}).fetch1('valid_times')\n",
    "        # keep only the intervals > 1 second long\n",
    "min_interval_length = 1.0\n",
    "valid = []\n",
    "for count, interval in enumerate(valid_times):\n",
    "    if interval[1] - interval[0] > min_interval_length:\n",
    "        valid.append(count)\n",
    "valid_times = valid_times[valid] \n",
    "print(f'LFP: found {len(valid)} of {count+1} intervals > {min_interval_length} sec long.')  "
   ]
  },
  {
   "cell_type": "code",
   "execution_count": 17,
   "id": "7dac6ab5-230f-4b2d-b1a3-d47bebb474e8",
   "metadata": {},
   "outputs": [
    {
     "data": {
      "text/plain": [
       "20"
      ]
     },
     "execution_count": 17,
     "metadata": {},
     "output_type": "execute_result"
    }
   ],
   "source": [
    "decimation = sampling_rate // 1000\n",
    "decimation"
   ]
  },
  {
   "cell_type": "code",
   "execution_count": 19,
   "id": "8e073011-d11d-4b37-8f71-ebf95f3a31bc",
   "metadata": {},
   "outputs": [
    {
     "data": {
      "text/plain": [
       "[{'filter_name': 'LFP 0-400 Hz',\n",
       "  'filter_sampling_rate': 20000,\n",
       "  'filter_type': 'lowpass',\n",
       "  'filter_low_stop': 0.0,\n",
       "  'filter_low_pass': 0.0,\n",
       "  'filter_high_pass': 400.0,\n",
       "  'filter_high_stop': 425.0,\n",
       "  'filter_comments': 'standard LFP filter for 20 KHz data',\n",
       "  'filter_band_edges': array([400, 425]),\n",
       "  'filter_coeff': array([-2.75339220e-07, -1.09527344e-06, -1.89541262e-06, ...,\n",
       "         -1.89541262e-06, -1.09527344e-06, -2.75339220e-07])}]"
      ]
     },
     "execution_count": 19,
     "metadata": {},
     "output_type": "execute_result"
    }
   ],
   "source": [
    "filter = (FirFilter() & {'filter_name': 'LFP 0-400 Hz'} &\n",
    "                  {'filter_sampling_rate': sampling_rate}).fetch(as_dict=True)\n",
    "filter"
   ]
  },
  {
   "cell_type": "code",
   "execution_count": 23,
   "id": "cb400e43-497f-474a-b23d-0d4f885e86bb",
   "metadata": {},
   "outputs": [
    {
     "name": "stdout",
     "output_type": "stream",
     "text": [
      "[-2.75339220e-07 -1.09527344e-06 -1.89541262e-06 ... -1.89541262e-06\n",
      " -1.09527344e-06 -2.75339220e-07]\n",
      "{'nwb_file_name': 'beans20190718_emonroe_.nwb', 'filter_name': 'LFP 0-400 Hz', 'filter_sampling_rate': 20000}\n"
     ]
    }
   ],
   "source": [
    "# there should only be one filter that matches, so we take the first of the dictionaries\n",
    "key['filter_name'] = filter[0]['filter_name']\n",
    "key['filter_sampling_rate'] = filter[0]['filter_sampling_rate']\n",
    "\n",
    "filter_coeff = filter[0]['filter_coeff']\n",
    "if len(filter_coeff) == 0:\n",
    "    print(f'Error in LFP: no filter found with data sampling rate of {sampling_rate}')\n",
    "print(filter_coeff)\n",
    "print(key)"
   ]
  },
  {
   "cell_type": "code",
   "execution_count": 25,
   "id": "921bfb77-68b9-4baa-a7e7-f1b35b994680",
   "metadata": {},
   "outputs": [
    {
     "data": {
      "text/plain": [
       "[0, 1]"
      ]
     },
     "execution_count": 25,
     "metadata": {},
     "output_type": "execute_result"
    }
   ],
   "source": [
    "# get the list of selected LFP Channels from LFPElectrode\n",
    "electrode_keys = (LFPSelection.LFPElectrode & key).fetch('KEY')\n",
    "electrode_id_list = list(k['electrode_id'] for k in electrode_keys)\n",
    "electrode_id_list.sort()\n",
    "electrode_id_list"
   ]
  },
  {
   "cell_type": "code",
   "execution_count": 26,
   "id": "5e9e7fe1-aaed-44eb-b640-a5b78951abb0",
   "metadata": {},
   "outputs": [
    {
     "name": "stdout",
     "output_type": "stream",
     "text": [
      "Writing new NWB file beans20190718_emonroe_KQRK2EST3K.nwb\n"
     ]
    },
    {
     "data": {
      "text/plain": [
       "'beans20190718_emonroe_KQRK2EST3K.nwb'"
      ]
     },
     "execution_count": 26,
     "metadata": {},
     "output_type": "execute_result"
    }
   ],
   "source": [
    "lfp_file_name = AnalysisNwbfile().create(key['nwb_file_name'])\n",
    "lfp_file_name\n"
   ]
  },
  {
   "cell_type": "code",
   "execution_count": 27,
   "id": "ebded03b-6b93-4973-9d92-27f319562cec",
   "metadata": {},
   "outputs": [
    {
     "name": "stdout",
     "output_type": "stream",
     "text": [
      "Filtering data\n",
      "Interval 0: loading data into memory\n",
      "Interval 1: loading data into memory\n",
      "Interval 2: loading data into memory\n",
      "Interval 3: loading data into memory\n",
      "Interval 4: loading data into memory\n"
     ]
    }
   ],
   "source": [
    "#This is ther actual filtering step!! \n",
    "lfp_file_abspath = AnalysisNwbfile().get_abs_path(lfp_file_name)\n",
    "lfp_object_id, timestamp_interval = FirFilter().filter_data_nwb(lfp_file_abspath, rawdata,\n",
    "                                filter_coeff, valid_times, electrode_id_list, decimation)\n",
    "\n"
   ]
  },
  {
   "cell_type": "code",
   "execution_count": 28,
   "id": "a60d9973-b5ae-4f9b-ba16-c1d7b272fb06",
   "metadata": {},
   "outputs": [
    {
     "data": {
      "text/plain": [
       "'e4937e2f-6e36-4356-af55-64e12bddee03'"
      ]
     },
     "execution_count": 28,
     "metadata": {},
     "output_type": "execute_result"
    }
   ],
   "source": [
    "lfp_object_id"
   ]
  },
  {
   "cell_type": "code",
   "execution_count": 29,
   "id": "a2bdb404-4e2f-4683-89d5-5c4ea3977ab3",
   "metadata": {},
   "outputs": [
    {
     "data": {
      "text/plain": [
       "[1563488988.8768327, 1563497107.134255]"
      ]
     },
     "execution_count": 29,
     "metadata": {},
     "output_type": "execute_result"
    }
   ],
   "source": [
    "timestamp_interval"
   ]
  },
  {
   "cell_type": "code",
   "execution_count": 35,
   "id": "ba4bc651-558c-42ee-9a8b-6d2d9697a317",
   "metadata": {},
   "outputs": [
    {
     "data": {
      "text/plain": [
       "array([None], dtype=object)"
      ]
     },
     "execution_count": 35,
     "metadata": {},
     "output_type": "execute_result"
    }
   ],
   "source": [
    "# (AnalysisNwbfile() & {'nwb_file_name' : nwb_file_name}).fetch('analysis_parameters')"
   ]
  },
  {
   "cell_type": "code",
   "execution_count": 40,
   "id": "f658051c-0bc9-47d0-8dfa-57513fcf64eb",
   "metadata": {},
   "outputs": [],
   "source": [
    "# AnalysisNwbfile().add(key['nwb_file_name'], lfp_file_name)\n",
    "\n",
    "\n",
    "key['analysis_file_name'] = lfp_file_name\n",
    "key['lfp_object_id'] = lfp_object_id\n",
    "key['lfp_sampling_rate'] = sampling_rate // decimation\n",
    "\n",
    "        # finally, we need to censor the valid times to account for the downsampling\n",
    "lfp_valid_times = interval_list_censor(valid_times, timestamp_interval)\n",
    "        # add an interval list for the LFP valid times, skipping duplicates\n",
    "key['interval_list_name'] = 'lfp valid times'\n",
    "# IntervalList.insert1({'nwb_file_name': key['nwb_file_name'],\n",
    "#                                'interval_list_name': key['interval_list_name'], \n",
    "#                                'valid_times': lfp_valid_times}, replace=True)\n",
    "        # self.insert1(key)"
   ]
  },
  {
   "cell_type": "code",
   "execution_count": 41,
   "id": "9b1f6f06-c4c1-48e1-81a9-7b76645960c8",
   "metadata": {},
   "outputs": [
    {
     "data": {
      "text/plain": [
       "{'nwb_file_name': 'beans20190718_emonroe_.nwb',\n",
       " 'filter_name': 'LFP 0-400 Hz',\n",
       " 'filter_sampling_rate': 20000,\n",
       " 'analysis_file_name': 'beans20190718_emonroe_KQRK2EST3K.nwb',\n",
       " 'lfp_object_id': 'e4937e2f-6e36-4356-af55-64e12bddee03',\n",
       " 'lfp_sampling_rate': 1000,\n",
       " 'interval_list_name': 'lfp valid times'}"
      ]
     },
     "execution_count": 41,
     "metadata": {},
     "output_type": "execute_result"
    }
   ],
   "source": [
    "key"
   ]
  },
  {
   "cell_type": "code",
   "execution_count": null,
   "id": "05e981ad-e182-411e-a211-52ca05e6bcff",
   "metadata": {},
   "outputs": [],
   "source": [
    "#     def make(self, key):\n",
    "#         # get the NWB object with the data; FIX: change to fetch with additional infrastructure\n",
    "#         rawdata = Raw().nwb_object(key)\n",
    "#         sampling_rate, interval_list_name = (Raw() & key).fetch1(\n",
    "#             'sampling_rate', 'interval_list_name')\n",
    "#         sampling_rate = int(np.round(sampling_rate))\n",
    "\n",
    "#         valid_times = (IntervalList() & {'nwb_file_name': key['nwb_file_name'],\n",
    "#                                          'interval_list_name': interval_list_name}).fetch1('valid_times')\n",
    "#         # keep only the intervals > 1 second long\n",
    "#         min_interval_length = 1.0\n",
    "#         valid = []\n",
    "#         for count, interval in enumerate(valid_times):\n",
    "#             if interval[1] - interval[0] > min_interval_length:\n",
    "#                 valid.append(count)\n",
    "#         valid_times = valid_times[valid] \n",
    "#         print(f'LFP: found {len(valid)} of {count+1} intervals > {min_interval_length} sec long.')  \n",
    "        \n",
    "#         # target 1 KHz sampling rate\n",
    "#         decimation = sampling_rate // 1000\n",
    "\n",
    "#         # get the LFP filter that matches the raw data\n",
    "#         filter = (FirFilter() & {'filter_name': 'LFP 0-400 Hz'} &\n",
    "#                   {'filter_sampling_rate': sampling_rate}).fetch(as_dict=True)\n",
    "\n",
    "#         # there should only be one filter that matches, so we take the first of the dictionaries\n",
    "#         key['filter_name'] = filter[0]['filter_name']\n",
    "#         key['filter_sampling_rate'] = filter[0]['filter_sampling_rate']\n",
    "\n",
    "#         filter_coeff = filter[0]['filter_coeff']\n",
    "#         if len(filter_coeff) == 0:\n",
    "#             print(\n",
    "#                 f'Error in LFP: no filter found with data sampling rate of {sampling_rate}')\n",
    "#             return None\n",
    "#         # get the list of selected LFP Channels from LFPElectrode\n",
    "#         electrode_keys = (LFPSelection.LFPElectrode & key).fetch('KEY')\n",
    "#         electrode_id_list = list(k['electrode_id'] for k in electrode_keys)\n",
    "#         electrode_id_list.sort()\n",
    "\n",
    "#         lfp_file_name = AnalysisNwbfile().create(key['nwb_file_name'])\n",
    "\n",
    "#         lfp_file_abspath = AnalysisNwbfile().get_abs_path(lfp_file_name)\n",
    "#         lfp_object_id, timestamp_interval = FirFilter().filter_data_nwb(lfp_file_abspath, rawdata,\n",
    "#                                                     filter_coeff, valid_times, electrode_id_list, decimation)\n",
    "\n",
    "#         # now that the LFP is filtered and in the file, add the file to the AnalysisNwbfile table                                             \n",
    "#         AnalysisNwbfile().add(key['nwb_file_name'], lfp_file_name)\n",
    "\n",
    "#         key['analysis_file_name'] = lfp_file_name\n",
    "#         key['lfp_object_id'] = lfp_object_id\n",
    "#         key['lfp_sampling_rate'] = sampling_rate // decimation\n",
    "\n",
    "#         # finally, we need to censor the valid times to account for the downsampling\n",
    "#         lfp_valid_times = interval_list_censor(valid_times, timestamp_interval)\n",
    "#         # add an interval list for the LFP valid times, skipping duplicates\n",
    "#         key['interval_list_name'] = 'lfp valid times'\n",
    "#         IntervalList.insert1({'nwb_file_name': key['nwb_file_name'],\n",
    "#                                'interval_list_name': key['interval_list_name'], \n",
    "#                                'valid_times': lfp_valid_times}, replace=True)\n",
    "#         self.insert1(key)"
   ]
  },
  {
   "cell_type": "code",
   "execution_count": 42,
   "id": "a285e085-a7da-40a3-b117-631102607e3d",
   "metadata": {},
   "outputs": [
    {
     "data": {
      "text/html": [
       "\n",
       "    \n",
       "    <style type=\"text/css\">\n",
       "        .Relation{\n",
       "            border-collapse:collapse;\n",
       "        }\n",
       "        .Relation th{\n",
       "            background: #A0A0A0; color: #ffffff; padding:4px; border:#f0e0e0 1px solid;\n",
       "            font-weight: normal; font-family: monospace; font-size: 100%;\n",
       "        }\n",
       "        .Relation td{\n",
       "            padding:4px; border:#f0e0e0 1px solid; font-size:100%;\n",
       "        }\n",
       "        .Relation tr:nth-child(odd){\n",
       "            background: #ffffff;\n",
       "        }\n",
       "        .Relation tr:nth-child(even){\n",
       "            background: #f3f1ff;\n",
       "        }\n",
       "        /* Tooltip container */\n",
       "        .djtooltip {\n",
       "        }\n",
       "        /* Tooltip text */\n",
       "        .djtooltip .djtooltiptext {\n",
       "            visibility: hidden;\n",
       "            width: 120px;\n",
       "            background-color: black;\n",
       "            color: #fff;\n",
       "            text-align: center;\n",
       "            padding: 5px 0;\n",
       "            border-radius: 6px;\n",
       "            /* Position the tooltip text - see examples below! */\n",
       "            position: absolute;\n",
       "            z-index: 1;\n",
       "        }\n",
       "        #primary {\n",
       "            font-weight: bold;\n",
       "            color: black;\n",
       "        }\n",
       "        #nonprimary {\n",
       "            font-weight: normal;\n",
       "            color: white;\n",
       "        }\n",
       "\n",
       "        /* Show the tooltip text when you mouse over the tooltip container */\n",
       "        .djtooltip:hover .djtooltiptext {\n",
       "            visibility: visible;\n",
       "        }\n",
       "    </style>\n",
       "    \n",
       "    <b>Table for holding the NWB files that contain results of analysis, such as spike sorting.</b>\n",
       "        <div style=\"max-height:1000px;max-width:1500px;overflow:auto;\">\n",
       "        <table border=\"1\" class=\"Relation\">\n",
       "            <thead> <tr style=\"text-align: right;\"> <th> <div class=\"djtooltip\">\n",
       "                            <p id=\"primary\">analysis_file_name</p>\n",
       "                            <span class=\"djtooltiptext\">name of the file</span>\n",
       "                        </div></th><th><div class=\"djtooltip\">\n",
       "                            <p id=\"nonprimary\">nwb_file_name</p>\n",
       "                            <span class=\"djtooltiptext\">name of the NWB file</span>\n",
       "                        </div></th><th><div class=\"djtooltip\">\n",
       "                            <p id=\"nonprimary\">analysis_file_abs_path</p>\n",
       "                            <span class=\"djtooltiptext\">the full path to the file</span>\n",
       "                        </div></th><th><div class=\"djtooltip\">\n",
       "                            <p id=\"nonprimary\">analysis_file_description</p>\n",
       "                            <span class=\"djtooltiptext\">an optional description of this analysis</span>\n",
       "                        </div></th><th><div class=\"djtooltip\">\n",
       "                            <p id=\"nonprimary\">analysis_parameters</p>\n",
       "                            <span class=\"djtooltiptext\">additional relevant parmeters. Currently used only for analyses</span>\n",
       "                        </div> </th> </tr> </thead>\n",
       "            <tbody> <tr> <td>beans20190718_dgramling_5ZH6VUWBOC.nwb</td>\n",
       "<td>beans20190718_dgramling_.nwb</td>\n",
       "<td>=BLOB=</td>\n",
       "<td></td>\n",
       "<td>=BLOB=</td></tr><tr><td>beans20190718_emonroe_XQVNQ0RWGJ.nwb</td>\n",
       "<td>beans20190718_emonroe_.nwb</td>\n",
       "<td>=BLOB=</td>\n",
       "<td></td>\n",
       "<td>=BLOB=</td></tr><tr><td>CH5_20210109_2R15OCIEP3.nwb</td>\n",
       "<td>CH5_20210109_.nwb</td>\n",
       "<td>=BLOB=</td>\n",
       "<td></td>\n",
       "<td>=BLOB=</td></tr><tr><td>CH5_20210109_3G6VVKKG9C.nwb</td>\n",
       "<td>CH5_20210109_.nwb</td>\n",
       "<td>=BLOB=</td>\n",
       "<td></td>\n",
       "<td>=BLOB=</td></tr><tr><td>CH5_20210109_61G4ZVDIUH.nwb</td>\n",
       "<td>CH5_20210109_.nwb</td>\n",
       "<td>=BLOB=</td>\n",
       "<td></td>\n",
       "<td>=BLOB=</td></tr><tr><td>CH5_20210109_6BCX2OOZUV.nwb</td>\n",
       "<td>CH5_20210109_.nwb</td>\n",
       "<td>=BLOB=</td>\n",
       "<td></td>\n",
       "<td>=BLOB=</td></tr><tr><td>CH5_20210109_6FJG3QX7AW.nwb</td>\n",
       "<td>CH5_20210109_.nwb</td>\n",
       "<td>=BLOB=</td>\n",
       "<td></td>\n",
       "<td>=BLOB=</td></tr><tr><td>CH5_20210109_6SS5QLIC0N.nwb</td>\n",
       "<td>CH5_20210109_.nwb</td>\n",
       "<td>=BLOB=</td>\n",
       "<td></td>\n",
       "<td>=BLOB=</td></tr><tr><td>CH5_20210109_94CE7WQGCI.nwb</td>\n",
       "<td>CH5_20210109_.nwb</td>\n",
       "<td>=BLOB=</td>\n",
       "<td></td>\n",
       "<td>=BLOB=</td></tr><tr><td>CH5_20210109_9RR98M30XR.nwb</td>\n",
       "<td>CH5_20210109_.nwb</td>\n",
       "<td>=BLOB=</td>\n",
       "<td></td>\n",
       "<td>=BLOB=</td></tr><tr><td>CH5_20210109_AZS9YR1CDY.nwb</td>\n",
       "<td>CH5_20210109_.nwb</td>\n",
       "<td>=BLOB=</td>\n",
       "<td></td>\n",
       "<td>=BLOB=</td></tr><tr><td>CH5_20210109_BPVBG7P0QM.nwb</td>\n",
       "<td>CH5_20210109_.nwb</td>\n",
       "<td>=BLOB=</td>\n",
       "<td></td>\n",
       "<td>=BLOB=</td> </tr> </tbody>\n",
       "        </table>\n",
       "        <p>...</p>\n",
       "        <p>Total: 36510</p></div>\n",
       "        "
      ],
      "text/plain": [
       "*analysis_file nwb_file_name  analysis_f analysis_file_ analysis_p\n",
       "+------------+ +------------+ +--------+ +------------+ +--------+\n",
       "beans20190718_ beans20190718_ =BLOB=                    =BLOB=    \n",
       "beans20190718_ beans20190718_ =BLOB=                    =BLOB=    \n",
       "CH5_20210109_2 CH5_20210109_. =BLOB=                    =BLOB=    \n",
       "CH5_20210109_3 CH5_20210109_. =BLOB=                    =BLOB=    \n",
       "CH5_20210109_6 CH5_20210109_. =BLOB=                    =BLOB=    \n",
       "CH5_20210109_6 CH5_20210109_. =BLOB=                    =BLOB=    \n",
       "CH5_20210109_6 CH5_20210109_. =BLOB=                    =BLOB=    \n",
       "CH5_20210109_6 CH5_20210109_. =BLOB=                    =BLOB=    \n",
       "CH5_20210109_9 CH5_20210109_. =BLOB=                    =BLOB=    \n",
       "CH5_20210109_9 CH5_20210109_. =BLOB=                    =BLOB=    \n",
       "CH5_20210109_A CH5_20210109_. =BLOB=                    =BLOB=    \n",
       "CH5_20210109_B CH5_20210109_. =BLOB=                    =BLOB=    \n",
       "   ...\n",
       " (Total: 36510)"
      ]
     },
     "execution_count": 42,
     "metadata": {},
     "output_type": "execute_result"
    }
   ],
   "source": [
    "AnalysisNwbfile()"
   ]
  },
  {
   "cell_type": "code",
   "execution_count": 43,
   "id": "2f4c8824-dad8-4b18-aa9d-2d24043da8c5",
   "metadata": {},
   "outputs": [
    {
     "data": {
      "text/html": [
       "\n",
       "    \n",
       "    <style type=\"text/css\">\n",
       "        .Relation{\n",
       "            border-collapse:collapse;\n",
       "        }\n",
       "        .Relation th{\n",
       "            background: #A0A0A0; color: #ffffff; padding:4px; border:#f0e0e0 1px solid;\n",
       "            font-weight: normal; font-family: monospace; font-size: 100%;\n",
       "        }\n",
       "        .Relation td{\n",
       "            padding:4px; border:#f0e0e0 1px solid; font-size:100%;\n",
       "        }\n",
       "        .Relation tr:nth-child(odd){\n",
       "            background: #ffffff;\n",
       "        }\n",
       "        .Relation tr:nth-child(even){\n",
       "            background: #f3f1ff;\n",
       "        }\n",
       "        /* Tooltip container */\n",
       "        .djtooltip {\n",
       "        }\n",
       "        /* Tooltip text */\n",
       "        .djtooltip .djtooltiptext {\n",
       "            visibility: hidden;\n",
       "            width: 120px;\n",
       "            background-color: black;\n",
       "            color: #fff;\n",
       "            text-align: center;\n",
       "            padding: 5px 0;\n",
       "            border-radius: 6px;\n",
       "            /* Position the tooltip text - see examples below! */\n",
       "            position: absolute;\n",
       "            z-index: 1;\n",
       "        }\n",
       "        #primary {\n",
       "            font-weight: bold;\n",
       "            color: black;\n",
       "        }\n",
       "        #nonprimary {\n",
       "            font-weight: normal;\n",
       "            color: white;\n",
       "        }\n",
       "\n",
       "        /* Show the tooltip text when you mouse over the tooltip container */\n",
       "        .djtooltip:hover .djtooltiptext {\n",
       "            visibility: visible;\n",
       "        }\n",
       "    </style>\n",
       "    \n",
       "    <b></b>\n",
       "        <div style=\"max-height:1000px;max-width:1500px;overflow:auto;\">\n",
       "        <table border=\"1\" class=\"Relation\">\n",
       "            <thead> <tr style=\"text-align: right;\"> <th> <div class=\"djtooltip\">\n",
       "                            <p id=\"primary\">nwb_file_name</p>\n",
       "                            <span class=\"djtooltiptext\">name of the NWB file</span>\n",
       "                        </div></th><th><div class=\"djtooltip\">\n",
       "                            <p id=\"nonprimary\">interval_list_name</p>\n",
       "                            <span class=\"djtooltiptext\">descriptive name of this interval list</span>\n",
       "                        </div></th><th><div class=\"djtooltip\">\n",
       "                            <p id=\"nonprimary\">filter_name</p>\n",
       "                            <span class=\"djtooltiptext\">descriptive name of this filter</span>\n",
       "                        </div></th><th><div class=\"djtooltip\">\n",
       "                            <p id=\"nonprimary\">filter_sampling_rate</p>\n",
       "                            <span class=\"djtooltiptext\">sampling rate for this filter</span>\n",
       "                        </div></th><th><div class=\"djtooltip\">\n",
       "                            <p id=\"nonprimary\">analysis_file_name</p>\n",
       "                            <span class=\"djtooltiptext\">name of the file</span>\n",
       "                        </div></th><th><div class=\"djtooltip\">\n",
       "                            <p id=\"nonprimary\">lfp_object_id</p>\n",
       "                            <span class=\"djtooltiptext\">the NWB object ID for loading this object from the file</span>\n",
       "                        </div></th><th><div class=\"djtooltip\">\n",
       "                            <p id=\"nonprimary\">lfp_sampling_rate</p>\n",
       "                            <span class=\"djtooltiptext\">the sampling rate, in HZ</span>\n",
       "                        </div> </th> </tr> </thead>\n",
       "            <tbody> <tr> <td>beans20190718_dgramling_.nwb</td>\n",
       "<td>lfp valid times</td>\n",
       "<td>LFP 0-400 Hz</td>\n",
       "<td>20000</td>\n",
       "<td>beans20190718_dgramling_5ZH6VUWBOC.nwb</td>\n",
       "<td>35d1ec01-a384-48ff-abce-7f148c768220</td>\n",
       "<td>1000.0</td></tr><tr><td>beans20190718_emonroe_.nwb</td>\n",
       "<td>lfp valid times</td>\n",
       "<td>LFP 0-400 Hz</td>\n",
       "<td>20000</td>\n",
       "<td>beans20190718_emonroe_XQVNQ0RWGJ.nwb</td>\n",
       "<td>d95c48bd-b2d1-4cdd-a7ab-911fb917c15e</td>\n",
       "<td>1000.0</td></tr><tr><td>CH6120211203_.nwb</td>\n",
       "<td>lfp valid times</td>\n",
       "<td>LFP 0-400 Hz</td>\n",
       "<td>30000</td>\n",
       "<td>CH6120211203_EMOR22N1Q2.nwb</td>\n",
       "<td>b7f4ec79-c165-4974-9faf-3f21852b0339</td>\n",
       "<td>1000.0</td></tr><tr><td>CH6520211201_.nwb</td>\n",
       "<td>lfp valid times</td>\n",
       "<td>LFP 0-400 Hz</td>\n",
       "<td>30000</td>\n",
       "<td>CH6520211201_0XPU9WSAU4.nwb</td>\n",
       "<td>65bdf912-7e73-441c-8bf8-4bd085dae781</td>\n",
       "<td>1000.0</td></tr><tr><td>despereaux20191125_.nwb</td>\n",
       "<td>lfp valid times</td>\n",
       "<td>LFP 0-400 Hz</td>\n",
       "<td>30000</td>\n",
       "<td>despereaux20191125_M1OH0TD4YH.nwb</td>\n",
       "<td>1ea02648-f360-41fd-b412-d90c9ec9fd87</td>\n",
       "<td>1000.0</td></tr><tr><td>J1620210529_.nwb</td>\n",
       "<td>lfp valid times</td>\n",
       "<td>LFP 0-400 Hz</td>\n",
       "<td>30000</td>\n",
       "<td>J1620210529_BQN7BHYVZ8.nwb</td>\n",
       "<td>78880e9e-0b15-46cd-b2c2-ad089d0a0922</td>\n",
       "<td>1000.0</td></tr><tr><td>J1620210531_.nwb</td>\n",
       "<td>lfp valid times</td>\n",
       "<td>LFP 0-400 Hz</td>\n",
       "<td>30000</td>\n",
       "<td>J1620210531_UKIY6CRTC2.nwb</td>\n",
       "<td>665be634-59fa-47dd-9660-5369176e07b8</td>\n",
       "<td>1000.0</td></tr><tr><td>J1620210612_.nwb</td>\n",
       "<td>lfp valid times</td>\n",
       "<td>LFP 0-400 Hz</td>\n",
       "<td>30000</td>\n",
       "<td>J1620210612_OSTPDQX6R0.nwb</td>\n",
       "<td>3fab3179-58ea-4301-8656-ede2aa1f3b4a</td>\n",
       "<td>1000.0</td></tr><tr><td>jaq20190815_.nwb</td>\n",
       "<td>lfp valid times</td>\n",
       "<td>LFP 0-400 Hz</td>\n",
       "<td>30000</td>\n",
       "<td>jaq20190815_BY2AYU4CG2.nwb</td>\n",
       "<td>8969a43d-a7c3-4972-a78f-1d44c723c394</td>\n",
       "<td>1000.0</td></tr><tr><td>montague20200731_.nwb</td>\n",
       "<td>lfp valid times</td>\n",
       "<td>LFP 0-400 Hz</td>\n",
       "<td>30000</td>\n",
       "<td>montague20200731_0N1626OC24.nwb</td>\n",
       "<td>dc7015f0-381c-4a65-a071-62e16d9bcd3a</td>\n",
       "<td>1000.0</td></tr><tr><td>pippin20210411_.nwb</td>\n",
       "<td>lfp valid times</td>\n",
       "<td>LFP 0-400 Hz</td>\n",
       "<td>30000</td>\n",
       "<td>pippin20210411_G3GKR28YCO.nwb</td>\n",
       "<td>46dfa7cc-71dd-43df-b3c5-4c94a56e2e35</td>\n",
       "<td>1000.0</td></tr><tr><td>RN2_20191106_.nwb</td>\n",
       "<td>lfp valid times</td>\n",
       "<td>LFP 0-400 Hz</td>\n",
       "<td>30000</td>\n",
       "<td>RN2_20191106_ONAA5BML4C.nwb</td>\n",
       "<td>7985b3f5-d8a2-435a-8d66-7d67f001d845</td>\n",
       "<td>1000.0</td> </tr> </tbody>\n",
       "        </table>\n",
       "        <p>...</p>\n",
       "        <p>Total: 22</p></div>\n",
       "        "
      ],
      "text/plain": [
       "*nwb_file_name interval_list_ filter_name    filter_samplin analysis_file_ lfp_object_id  lfp_sampling_r\n",
       "+------------+ +------------+ +------------+ +------------+ +------------+ +------------+ +------------+\n",
       "beans20190718_ lfp valid time LFP 0-400 Hz   20000          beans20190718_ 35d1ec01-a384- 1000.0        \n",
       "beans20190718_ lfp valid time LFP 0-400 Hz   20000          beans20190718_ d95c48bd-b2d1- 1000.0        \n",
       "CH6120211203_. lfp valid time LFP 0-400 Hz   30000          CH6120211203_E b7f4ec79-c165- 1000.0        \n",
       "CH6520211201_. lfp valid time LFP 0-400 Hz   30000          CH6520211201_0 65bdf912-7e73- 1000.0        \n",
       "despereaux2019 lfp valid time LFP 0-400 Hz   30000          despereaux2019 1ea02648-f360- 1000.0        \n",
       "J1620210529_.n lfp valid time LFP 0-400 Hz   30000          J1620210529_BQ 78880e9e-0b15- 1000.0        \n",
       "J1620210531_.n lfp valid time LFP 0-400 Hz   30000          J1620210531_UK 665be634-59fa- 1000.0        \n",
       "J1620210612_.n lfp valid time LFP 0-400 Hz   30000          J1620210612_OS 3fab3179-58ea- 1000.0        \n",
       "jaq20190815_.n lfp valid time LFP 0-400 Hz   30000          jaq20190815_BY 8969a43d-a7c3- 1000.0        \n",
       "montague202007 lfp valid time LFP 0-400 Hz   30000          montague202007 dc7015f0-381c- 1000.0        \n",
       "pippin20210411 lfp valid time LFP 0-400 Hz   30000          pippin20210411 46dfa7cc-71dd- 1000.0        \n",
       "RN2_20191106_. lfp valid time LFP 0-400 Hz   30000          RN2_20191106_O 7985b3f5-d8a2- 1000.0        \n",
       "   ...\n",
       " (Total: 22)"
      ]
     },
     "execution_count": 43,
     "metadata": {},
     "output_type": "execute_result"
    }
   ],
   "source": [
    "LFP()"
   ]
  },
  {
   "cell_type": "code",
   "execution_count": null,
   "id": "cdfa885f-d44c-4718-9096-9606f42f29c9",
   "metadata": {},
   "outputs": [],
   "source": []
  }
 ],
 "metadata": {
  "kernelspec": {
   "display_name": "Python [conda env:spyglass] *",
   "language": "python",
   "name": "conda-env-spyglass-py"
  },
  "language_info": {
   "codemirror_mode": {
    "name": "ipython",
    "version": 3
   },
   "file_extension": ".py",
   "mimetype": "text/x-python",
   "name": "python",
   "nbconvert_exporter": "python",
   "pygments_lexer": "ipython3",
   "version": "3.9.13"
  }
 },
 "nbformat": 4,
 "nbformat_minor": 5
}
