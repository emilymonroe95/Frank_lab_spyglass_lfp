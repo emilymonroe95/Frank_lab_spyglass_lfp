{
 "cells": [
  {
   "cell_type": "code",
   "execution_count": 1,
   "id": "a9796688-5d16-4782-bafb-0dbff4a2c398",
   "metadata": {},
   "outputs": [],
   "source": [
    "#filter_breakdown: \n"
   ]
  },
  {
   "cell_type": "code",
   "execution_count": 17,
   "id": "7db077e3-0b36-40ae-8492-c72fc9e9814d",
   "metadata": {},
   "outputs": [],
   "source": [
    "# run this cell\n",
    "import pynwb\n",
    "import os\n",
    "import numpy as np\n",
    "\n",
    "\n",
    "#DataJoint and DataJoint schema\n",
    "import datajoint as dj\n",
    "\n",
    "## We also import a bunch of tables so that we can call them easily\n",
    "#from nwb_datajoint.common import (RawPosition, HeadDir, Speed, LinPos, StateScriptFile, VideoFile,\n",
    "#                                  DataAcquisitionDevice, CameraDevice, Probe,\n",
    "#                                  DIOEvents,\n",
    "#                                  ElectrodeGroup, Electrode, Raw, SampleCount,\n",
    "#                                  LFPSelection, LFP, LFPBandSelection, LFPBand,\n",
    "#                                  SortGroup, SpikeSorting, SpikeSorter, SpikeSorterParameters, SpikeSortingWaveformParameters, SpikeSortingParameters, SpikeSortingMetrics, CuratedSpikeSorting,\\\n",
    "#                                  FirFilter,\n",
    "#                                  IntervalList, SortInterval,\n",
    "#                                  Lab, LabMember, LabTeam, Institution,\n",
    "#                                  BrainRegion,\n",
    "#                                  SensorData,\n",
    "#                                  Session, ExperimenterList,\n",
    "#                                  Subject,\n",
    "#                                  Task, TaskEpoch,\n",
    "#                                  Nwbfile, AnalysisNwbfile, NwbfileKachery, AnalysisNwbfileKachery,\n",
    "#                                  interval_list_contains,\n",
    "#                                  interval_list_contains_ind,\n",
    "#                                  interval_list_excludes,\n",
    "#                                  interval_list_excludes_ind,\n",
    "#                                  interval_list_intersect,\n",
    "#                                  get_electrode_indices)\n",
    "\n",
    "from nwb_datajoint.common import (RawPosition, HeadDir, Speed, LinPos, StateScriptFile, VideoFile,\n",
    "                                  DataAcquisitionDevice, CameraDevice, Probe,\n",
    "                                  DIOEvents,\n",
    "                                  ElectrodeGroup, Electrode, Raw, SampleCount,\n",
    "                                  LFPSelection, LFP, LFPBandSelection, LFPBand,\n",
    "                                  SortGroup, SpikeSortingFilterParameters, SpikeSortingArtifactDetectionParameters,\n",
    "                                  SpikeSortingRecordingSelection, SpikeSortingRecording, \n",
    "                                  SpikeSortingWorkspace, \n",
    "                                  SpikeSorter, SpikeSorterParameters, SortingID,\n",
    "                                  SpikeSortingSelection, SpikeSorting, \n",
    "                                  SpikeSortingMetricParameters,\n",
    "                                  ModifySortingParameters, ModifySortingSelection, ModifySorting, \n",
    "                                  AutomaticCurationParameters, AutomaticCurationSelection,\n",
    "                                  AutomaticCuration,\n",
    "                                  CuratedSpikeSortingSelection, CuratedSpikeSorting,\n",
    "                                  UnitInclusionParameters,\n",
    "                                  FirFilter,\n",
    "                                  IntervalList, SortInterval,\n",
    "                                  Lab, LabMember, LabTeam, Institution,\n",
    "                                  BrainRegion,\n",
    "                                  SensorData,\n",
    "                                  Session, ExperimenterList,\n",
    "                                  Subject,\n",
    "                                  Task, TaskEpoch,\n",
    "                                  Nwbfile, AnalysisNwbfile, NwbfileKachery, AnalysisNwbfileKachery,\n",
    "                                 get_electrode_indices)\n",
    "\n",
    "\n",
    "import warnings\n",
    "warnings.simplefilter('ignore', category=DeprecationWarning)\n",
    "warnings.simplefilter('ignore', category=ResourceWarning)"
   ]
  },
  {
   "cell_type": "code",
   "execution_count": 5,
   "id": "5bc73e2c-dbd1-4d4b-88fa-9a8fe57b9d67",
   "metadata": {},
   "outputs": [],
   "source": [
    "from nwb_datajoint.common import get_electrode_indices"
   ]
  },
  {
   "cell_type": "markdown",
   "id": "8ebaed05-8260-492b-a0ea-b869db6b01c2",
   "metadata": {},
   "source": [
    "#### Next we select the NWB file, which corresponds to the dataset we want to extract LFP from"
   ]
  },
  {
   "cell_type": "code",
   "execution_count": null,
   "id": "e95ad215-9bf7-4ac6-9ccf-fa2dd5892486",
   "metadata": {
    "tags": []
   },
   "outputs": [],
   "source": [
    "# nwb_file_names = Nwbfile().fetch('nwb_file_name')\n",
    "# # take the first one for this demonstration\n",
    "# nwb_file_name = nwb_file_names[0]\n",
    "# print(nwb_file_name)\n"
   ]
  },
  {
   "cell_type": "code",
   "execution_count": 3,
   "id": "7e815146-02bc-4830-800f-8fe5bd8965d8",
   "metadata": {},
   "outputs": [
    {
     "data": {
      "text/html": [
       "\n",
       "    \n",
       "    <style type=\"text/css\">\n",
       "        .Relation{\n",
       "            border-collapse:collapse;\n",
       "        }\n",
       "        .Relation th{\n",
       "            background: #A0A0A0; color: #ffffff; padding:4px; border:#f0e0e0 1px solid;\n",
       "            font-weight: normal; font-family: monospace; font-size: 100%;\n",
       "        }\n",
       "        .Relation td{\n",
       "            padding:4px; border:#f0e0e0 1px solid; font-size:100%;\n",
       "        }\n",
       "        .Relation tr:nth-child(odd){\n",
       "            background: #ffffff;\n",
       "        }\n",
       "        .Relation tr:nth-child(even){\n",
       "            background: #f3f1ff;\n",
       "        }\n",
       "        /* Tooltip container */\n",
       "        .djtooltip {\n",
       "        }\n",
       "        /* Tooltip text */\n",
       "        .djtooltip .djtooltiptext {\n",
       "            visibility: hidden;\n",
       "            width: 120px;\n",
       "            background-color: black;\n",
       "            color: #fff;\n",
       "            text-align: center;\n",
       "            padding: 5px 0;\n",
       "            border-radius: 6px;\n",
       "            /* Position the tooltip text - see examples below! */\n",
       "            position: absolute;\n",
       "            z-index: 1;\n",
       "        }\n",
       "        #primary {\n",
       "            font-weight: bold;\n",
       "            color: black;\n",
       "        }\n",
       "        #nonprimary {\n",
       "            font-weight: normal;\n",
       "            color: white;\n",
       "        }\n",
       "\n",
       "        /* Show the tooltip text when you mouse over the tooltip container */\n",
       "        .djtooltip:hover .djtooltiptext {\n",
       "            visibility: visible;\n",
       "        }\n",
       "    </style>\n",
       "    \n",
       "    <b></b>\n",
       "        <div style=\"max-height:1000px;max-width:1500px;overflow:auto;\">\n",
       "        <table border=\"1\" class=\"Relation\">\n",
       "            <thead> <tr style=\"text-align: right;\"> <th> <div class=\"djtooltip\">\n",
       "                            <p id=\"primary\">filter_name</p>\n",
       "                            <span class=\"djtooltiptext\">descriptive name of this filter</span>\n",
       "                        </div></th><th><div class=\"djtooltip\">\n",
       "                            <p id=\"primary\">filter_sampling_rate</p>\n",
       "                            <span class=\"djtooltiptext\">sampling rate for this filter</span>\n",
       "                        </div></th><th><div class=\"djtooltip\">\n",
       "                            <p id=\"nonprimary\">filter_type</p>\n",
       "                            <span class=\"djtooltiptext\"></span>\n",
       "                        </div></th><th><div class=\"djtooltip\">\n",
       "                            <p id=\"nonprimary\">filter_low_stop</p>\n",
       "                            <span class=\"djtooltiptext\">lowest frequency for stop band for low frequency side of filter</span>\n",
       "                        </div></th><th><div class=\"djtooltip\">\n",
       "                            <p id=\"nonprimary\">filter_low_pass</p>\n",
       "                            <span class=\"djtooltiptext\">lowest frequency for pass band of low frequency side of filter</span>\n",
       "                        </div></th><th><div class=\"djtooltip\">\n",
       "                            <p id=\"nonprimary\">filter_high_pass</p>\n",
       "                            <span class=\"djtooltiptext\">highest frequency for pass band for high frequency side of filter</span>\n",
       "                        </div></th><th><div class=\"djtooltip\">\n",
       "                            <p id=\"nonprimary\">filter_high_stop</p>\n",
       "                            <span class=\"djtooltiptext\">highest frequency for stop band of high frequency side of filter</span>\n",
       "                        </div></th><th><div class=\"djtooltip\">\n",
       "                            <p id=\"nonprimary\">filter_comments</p>\n",
       "                            <span class=\"djtooltiptext\">comments about the filter</span>\n",
       "                        </div></th><th><div class=\"djtooltip\">\n",
       "                            <p id=\"nonprimary\">filter_band_edges</p>\n",
       "                            <span class=\"djtooltiptext\">numpy array containing the filter bands (redundant with individual parameters)</span>\n",
       "                        </div></th><th><div class=\"djtooltip\">\n",
       "                            <p id=\"nonprimary\">filter_coeff</p>\n",
       "                            <span class=\"djtooltiptext\">numpy array containing the filter coefficients</span>\n",
       "                        </div> </th> </tr> </thead>\n",
       "            <tbody> <tr> <td>LFP 0-400 Hz</td>\n",
       "<td>20000</td>\n",
       "<td>lowpass</td>\n",
       "<td>0.0</td>\n",
       "<td>0.0</td>\n",
       "<td>400.0</td>\n",
       "<td>425.0</td>\n",
       "<td>standard LFP filter for 20 KHz data</td>\n",
       "<td>=BLOB=</td>\n",
       "<td>=BLOB=</td></tr><tr><td>LFP 0-400 Hz</td>\n",
       "<td>30000</td>\n",
       "<td>lowpass</td>\n",
       "<td>0.0</td>\n",
       "<td>0.0</td>\n",
       "<td>400.0</td>\n",
       "<td>425.0</td>\n",
       "<td>standard LFP filter for 20 KHz data</td>\n",
       "<td>=BLOB=</td>\n",
       "<td>=BLOB=</td></tr><tr><td>Ripple 150-250 Hz</td>\n",
       "<td>1000</td>\n",
       "<td>lowpass</td>\n",
       "<td>140.0</td>\n",
       "<td>150.0</td>\n",
       "<td>250.0</td>\n",
       "<td>260.0</td>\n",
       "<td>ripple band filter for 1 kHz data</td>\n",
       "<td>=BLOB=</td>\n",
       "<td>=BLOB=</td></tr><tr><td>Theta 5-11 Hz</td>\n",
       "<td>1000</td>\n",
       "<td>lowpass</td>\n",
       "<td>4.0</td>\n",
       "<td>5.0</td>\n",
       "<td>11.0</td>\n",
       "<td>12.0</td>\n",
       "<td>theta filter for 1 KHz data</td>\n",
       "<td>=BLOB=</td>\n",
       "<td>=BLOB=</td> </tr> </tbody>\n",
       "        </table>\n",
       "        \n",
       "        <p>Total: 4</p></div>\n",
       "        "
      ],
      "text/plain": [
       "*filter_name   *filter_sampli filter_type    filter_low_sto filter_low_pas filter_high_pa filter_high_st filter_comment filter_ban filter_coe\n",
       "+------------+ +------------+ +------------+ +------------+ +------------+ +------------+ +------------+ +------------+ +--------+ +--------+\n",
       "LFP 0-400 Hz   20000          lowpass        0.0            0.0            400.0          425.0          standard LFP f =BLOB=     =BLOB=    \n",
       "LFP 0-400 Hz   30000          lowpass        0.0            0.0            400.0          425.0          standard LFP f =BLOB=     =BLOB=    \n",
       "Ripple 150-250 1000           lowpass        140.0          150.0          250.0          260.0          ripple band fi =BLOB=     =BLOB=    \n",
       "Theta 5-11 Hz  1000           lowpass        4.0            5.0            11.0           12.0           theta filter f =BLOB=     =BLOB=    \n",
       " (Total: 4)"
      ]
     },
     "execution_count": 3,
     "metadata": {},
     "output_type": "execute_result"
    }
   ],
   "source": [
    "FirFilter()"
   ]
  },
  {
   "cell_type": "markdown",
   "id": "3f9d536e-d5c9-4192-a780-36582c7b38a2",
   "metadata": {
    "tags": []
   },
   "source": [
    "#### Create the standard LFP Filters. This only needs to be done once."
   ]
  },
  {
   "cell_type": "code",
   "execution_count": 4,
   "id": "c0a82897-1f86-41d3-afe6-ed13b2c628b9",
   "metadata": {},
   "outputs": [],
   "source": [
    "FirFilter().create_standard_filters()"
   ]
  },
  {
   "cell_type": "code",
   "execution_count": 7,
   "id": "01b05e4c-fde1-4c9a-8d28-7f2c2e2b73f3",
   "metadata": {},
   "outputs": [],
   "source": [
    "# run this cell\n",
    "#nwb_file_name = 'CH6520211201_.nwb'\n",
    "nwb_file_name = 'beans20190718_emonroe_.nwb'\n",
    "# print(((Electrode() & {'nwb_file_name' : nwb_file_name}).fetch('electrode_id'))[range(0, , 4)])\n",
    "# print(((Electrode() & {'nwb_file_name' : nwb_file_name}).fetch('electrode_group_name'))[range(0, 256, 4)])\n",
    "\n",
    "#[6,8,2,4,7,9,12,20,21,24,25,30,33,35,36,37,38,40,41,44,45,47,\n",
    "#                        51,52,53,54,55,56,57,58,60,61,]\n",
    "# intermed. canula LFP electrodes: [6,8,2,4,7,9,12,20,21,24,25,]\n",
    "# dorsal canula LFP electrodes: []"
   ]
  },
  {
   "cell_type": "code",
   "execution_count": 19,
   "id": "0660e022-ebf9-4196-8b9b-791f2a3ae9c7",
   "metadata": {},
   "outputs": [
    {
     "name": "stdout",
     "output_type": "stream",
     "text": [
      "Writing new NWB file beans20190718_emonroe_IWIV1WRU4C.nwb\n"
     ]
    }
   ],
   "source": [
    "lfp_file_name = AnalysisNwbfile().create('beans20190718_emonroe_.nwb')\n",
    "lfp_file_abspath = AnalysisNwbfile().get_abs_path(lfp_file_name)"
   ]
  },
  {
   "cell_type": "code",
   "execution_count": 20,
   "id": "e4852797-b6c7-4f66-b52d-44f042c3c4d9",
   "metadata": {},
   "outputs": [],
   "source": [
    "rawdata = (Raw().nwb_object({'nwb_file_name' : nwb_file_name}))\n",
    "eseries=rawdata"
   ]
  },
  {
   "cell_type": "code",
   "execution_count": null,
   "id": "dd07f2ae-9940-4ed7-a412-43b3568fdfed",
   "metadata": {},
   "outputs": [],
   "source": [
    "sampling_rate, interval_list_name = (Raw() & {'nwb_file_name' : nwb_file_name}).fetch1('sampling_rate', 'interval_list_name')\n",
    "filter = (FirFilter() & {'filter_name': 'LFP 0-400 Hz'} &\n",
    "                  {'filter_sampling_rate': sampling_rate}).fetch(as_dict=True)\n",
    "filter\n",
    "filter_coeff = filter[0]['filter_coeff']\n",
    "filter_coeff\n",
    "\n"
   ]
  },
  {
   "cell_type": "code",
   "execution_count": 24,
   "id": "851100a3-d30f-48c7-9d44-c844a1e410f0",
   "metadata": {},
   "outputs": [
    {
     "ename": "DataJointError",
     "evalue": "fetch1 should only return one tuple. 0 tuples found",
     "output_type": "error",
     "traceback": [
      "\u001b[0;31m---------------------------------------------------------------------------\u001b[0m",
      "\u001b[0;31mDataJointError\u001b[0m                            Traceback (most recent call last)",
      "Input \u001b[0;32mIn [24]\u001b[0m, in \u001b[0;36m<module>\u001b[0;34m\u001b[0m\n\u001b[0;32m----> 1\u001b[0m valid_times \u001b[38;5;241m=\u001b[39m \u001b[43m(\u001b[49m\u001b[43mIntervalList\u001b[49m\u001b[43m(\u001b[49m\u001b[43m)\u001b[49m\u001b[43m \u001b[49m\u001b[38;5;241;43m&\u001b[39;49m\u001b[43m \u001b[49m\u001b[43m{\u001b[49m\u001b[38;5;124;43m'\u001b[39;49m\u001b[38;5;124;43mnwb_file_name\u001b[39;49m\u001b[38;5;124;43m'\u001b[39;49m\u001b[43m:\u001b[49m\u001b[43m \u001b[49m\u001b[38;5;124;43m'\u001b[39;49m\u001b[38;5;124;43mnwb_file_name\u001b[39;49m\u001b[38;5;124;43m'\u001b[39;49m\u001b[43m,\u001b[49m\n\u001b[1;32m      2\u001b[0m \u001b[43m                                         \u001b[49m\u001b[38;5;124;43m'\u001b[39;49m\u001b[38;5;124;43minterval_list_name\u001b[39;49m\u001b[38;5;124;43m'\u001b[39;49m\u001b[43m:\u001b[49m\u001b[43m \u001b[49m\u001b[38;5;124;43m'\u001b[39;49m\u001b[38;5;124;43mlfp valid times\u001b[39;49m\u001b[38;5;124;43m'\u001b[39;49m\u001b[43m}\u001b[49m\u001b[43m)\u001b[49m\u001b[38;5;241;43m.\u001b[39;49m\u001b[43mfetch1\u001b[49m\u001b[43m(\u001b[49m\u001b[38;5;124;43m'\u001b[39;49m\u001b[38;5;124;43mvalid_times\u001b[39;49m\u001b[38;5;124;43m'\u001b[39;49m\u001b[43m)\u001b[49m\n\u001b[1;32m      3\u001b[0m         \u001b[38;5;66;03m# keep only the intervals > 1 second long\u001b[39;00m\n\u001b[1;32m      4\u001b[0m min_interval_length \u001b[38;5;241m=\u001b[39m \u001b[38;5;241m1.0\u001b[39m\n",
      "File \u001b[0;32m~/miniconda2/envs/nwb_datajoint/lib/python3.8/site-packages/datajoint/fetch.py:257\u001b[0m, in \u001b[0;36mFetch1.__call__\u001b[0;34m(self, squeeze, download_path, *attrs)\u001b[0m\n\u001b[1;32m    254\u001b[0m result \u001b[38;5;241m=\u001b[39m \u001b[38;5;28mself\u001b[39m\u001b[38;5;241m.\u001b[39m_expression\u001b[38;5;241m.\u001b[39mproj(\u001b[38;5;241m*\u001b[39mattributes)\u001b[38;5;241m.\u001b[39mfetch(\n\u001b[1;32m    255\u001b[0m     squeeze\u001b[38;5;241m=\u001b[39msqueeze, download_path\u001b[38;5;241m=\u001b[39mdownload_path, \u001b[38;5;28mformat\u001b[39m\u001b[38;5;241m=\u001b[39m\u001b[38;5;124m\"\u001b[39m\u001b[38;5;124marray\u001b[39m\u001b[38;5;124m\"\u001b[39m)\n\u001b[1;32m    256\u001b[0m \u001b[38;5;28;01mif\u001b[39;00m \u001b[38;5;28mlen\u001b[39m(result) \u001b[38;5;241m!=\u001b[39m \u001b[38;5;241m1\u001b[39m:\n\u001b[0;32m--> 257\u001b[0m     \u001b[38;5;28;01mraise\u001b[39;00m DataJointError(\n\u001b[1;32m    258\u001b[0m         \u001b[38;5;124m'\u001b[39m\u001b[38;5;124mfetch1 should only return one tuple. \u001b[39m\u001b[38;5;132;01m%d\u001b[39;00m\u001b[38;5;124m tuples found\u001b[39m\u001b[38;5;124m'\u001b[39m \u001b[38;5;241m%\u001b[39m \u001b[38;5;28mlen\u001b[39m(result))\n\u001b[1;32m    259\u001b[0m return_values \u001b[38;5;241m=\u001b[39m \u001b[38;5;28mtuple\u001b[39m(\n\u001b[1;32m    260\u001b[0m     \u001b[38;5;28mnext\u001b[39m(to_dicts(result[\u001b[38;5;28mself\u001b[39m\u001b[38;5;241m.\u001b[39m_expression\u001b[38;5;241m.\u001b[39mprimary_key]))\n\u001b[1;32m    261\u001b[0m     \u001b[38;5;28;01mif\u001b[39;00m is_key(attribute) \u001b[38;5;28;01melse\u001b[39;00m result[attribute][\u001b[38;5;241m0\u001b[39m]\n\u001b[1;32m    262\u001b[0m     \u001b[38;5;28;01mfor\u001b[39;00m attribute \u001b[38;5;129;01min\u001b[39;00m attrs)\n\u001b[1;32m    263\u001b[0m ret \u001b[38;5;241m=\u001b[39m return_values[\u001b[38;5;241m0\u001b[39m] \u001b[38;5;28;01mif\u001b[39;00m \u001b[38;5;28mlen\u001b[39m(attrs) \u001b[38;5;241m==\u001b[39m \u001b[38;5;241m1\u001b[39m \u001b[38;5;28;01melse\u001b[39;00m return_values\n",
      "\u001b[0;31mDataJointError\u001b[0m: fetch1 should only return one tuple. 0 tuples found"
     ]
    }
   ],
   "source": [
    "valid_times = (IntervalList() & {'nwb_file_name': 'nwb_file_name',\n",
    "                                         'interval_list_name': 'lfp valid times'}).fetch1('valid_times')\n",
    "        # keep only the intervals > 1 second long\n",
    "min_interval_length = 1.0\n",
    "valid = []\n",
    "for count, interval in enumerate(valid_times):\n",
    "    if interval[1] - interval[0] > min_interval_length:\n",
    "        valid.append(count)\n",
    "    valid_times = valid_times[valid] "
   ]
  },
  {
   "cell_type": "code",
   "execution_count": null,
   "id": "587ba685-6745-4027-9832-5c6543727b03",
   "metadata": {},
   "outputs": [],
   "source": [
    "analysis_file_abs_path, eseries, filter_coeff, valid_times, electrode_ids, decimation"
   ]
  },
  {
   "cell_type": "code",
   "execution_count": null,
   "id": "6b17133d-98af-4714-8aae-34634867609f",
   "metadata": {},
   "outputs": [],
   "source": [
    "analysis_file_abs_path = "
   ]
  },
  {
   "cell_type": "code",
   "execution_count": 10,
   "id": "42c0e273-905d-42fd-909b-19c4a4dfa65d",
   "metadata": {},
   "outputs": [],
   "source": [
    "rawdata = (Raw().nwb_object({'nwb_file_name' : nwb_file_name}))\n",
    "eseries=rawdata\n",
    "\n",
    "data_on_disk = rawdata.data\n",
    "\n"
   ]
  },
  {
   "cell_type": "code",
   "execution_count": 11,
   "id": "e33bb21c-e1de-4996-aaf9-06e476c3a3c4",
   "metadata": {},
   "outputs": [],
   "source": [
    "timestamps_on_disk = eseries.timestamps\n",
    "\n"
   ]
  },
  {
   "cell_type": "code",
   "execution_count": 13,
   "id": "52d9d969-d542-497e-a8b9-6807205cf820",
   "metadata": {},
   "outputs": [],
   "source": [
    "n_dim = len(data_on_disk.shape)\n",
    "n_samples = len(timestamps_on_disk)\n",
    "\n",
    "\n"
   ]
  },
  {
   "cell_type": "code",
   "execution_count": null,
   "id": "89084847-100c-40cc-8210-f5a64ce0ca5e",
   "metadata": {},
   "outputs": [],
   "source": [
    "time_axis = 0 if data_on_disk.shape[0] == n_samples else 1\n",
    "\n"
   ]
  },
  {
   "cell_type": "code",
   "execution_count": 15,
   "id": "60d43eae-1057-4913-940b-942a4f01de98",
   "metadata": {},
   "outputs": [],
   "source": [
    "electrode_axis = 1 - time_axis\n",
    "n_electrodes = data_on_disk.shape[electrode_axis]\n",
    "input_dim_restrictions = [None] * n_dim"
   ]
  },
  {
   "cell_type": "code",
   "execution_count": 18,
   "id": "23a6ad4a-a1b3-4e74-8eef-649760cc8da0",
   "metadata": {},
   "outputs": [
    {
     "ename": "NameError",
     "evalue": "name 'electrode_ids' is not defined",
     "output_type": "error",
     "traceback": [
      "\u001b[0;31m---------------------------------------------------------------------------\u001b[0m",
      "\u001b[0;31mNameError\u001b[0m                                 Traceback (most recent call last)",
      "Input \u001b[0;32mIn [18]\u001b[0m, in \u001b[0;36m<module>\u001b[0;34m\u001b[0m\n\u001b[0;32m----> 1\u001b[0m input_dim_restrictions[electrode_axis] \u001b[38;5;241m=\u001b[39m np\u001b[38;5;241m.\u001b[39ms_[get_electrode_indices(eseries, \u001b[43melectrode_ids\u001b[49m)]\n",
      "\u001b[0;31mNameError\u001b[0m: name 'electrode_ids' is not defined"
     ]
    }
   ],
   "source": [
    "input_dim_restrictions[electrode_axis] = np.s_[get_electrode_indices(eseries, electrode_ids)]\n",
    "\n"
   ]
  },
  {
   "cell_type": "code",
   "execution_count": 2,
   "id": "15742e21-9c87-4631-9f41-295f0eaabb4a",
   "metadata": {},
   "outputs": [
    {
     "ename": "IndentationError",
     "evalue": "unexpected indent (968129783.py, line 42)",
     "output_type": "error",
     "traceback": [
      "\u001b[0;36m  Input \u001b[0;32mIn [2]\u001b[0;36m\u001b[0m\n\u001b[0;31m    for a_start, a_stop in valid_times:\u001b[0m\n\u001b[0m    ^\u001b[0m\n\u001b[0;31mIndentationError\u001b[0m\u001b[0;31m:\u001b[0m unexpected indent\n"
     ]
    }
   ],
   "source": [
    "# def filter_data_nwb(self, analysis_file_abs_path, eseries, filter_coeff, valid_times, electrode_ids,\n",
    "#                         decimation):\n",
    "#     \"\"\"\n",
    "#         :param analysis_nwb_file_name: str   full path to previously created analysis nwb file where filtered data\n",
    "#         should be stored. This also has the name of the original NWB file where the data will be taken from\n",
    "#         :param eseries: electrical series with data to be filtered\n",
    "#         :param filter_coeff: numpy array with filter coefficients for FIR filter\n",
    "#         :param valid_times: 2D numpy array with start and stop times of intervals to be filtered\n",
    "#         :param electrode_ids: list of electrode_ids to filter\n",
    "#         :param decimation: int decimation factor\n",
    "#         :return: The NWB object id of the filtered data (str), list containing first and last timestamp\n",
    "\n",
    "#         This function takes data and timestamps from an NWB electrical series and filters them using the ghostipy\n",
    "#         package, saving the result as a new electricalseries in the nwb_file_name, which should have previously been\n",
    "#         created and linked to the original NWB file using common_session.AnalysisNwbfile.create()\n",
    "#         \"\"\"\n",
    "\n",
    "data_on_disk = eseries.data\n",
    "timestamps_on_disk = eseries.timestamps\n",
    "n_dim = len(data_on_disk.shape)\n",
    "n_samples = len(timestamps_on_disk)\n",
    "        # find the\n",
    "time_axis = 0 if data_on_disk.shape[0] == n_samples else 1\n",
    "electrode_axis = 1 - time_axis\n",
    "n_electrodes = data_on_disk.shape[electrode_axis]\n",
    "input_dim_restrictions = [None] * n_dim\n",
    "\n",
    "        # to get the input dimension restrictions we need to look at the electrode table for the eseries and get\n",
    "        # the indices from that\n",
    "input_dim_restrictions[electrode_axis] = np.s_[get_electrode_indices(eseries, electrode_ids)]\n",
    "\n",
    "indices = []\n",
    "output_shape_list = [0] * n_dim\n",
    "output_shape_list[electrode_axis] = len(electrode_ids)\n",
    "output_offsets = [0]\n",
    "\n",
    "timestamp_size = timestamps_on_disk[0].itemsize\n",
    "timestamp_dtype = timestamps_on_disk[0].dtype\n",
    "data_size = data_on_disk[0][0].itemsize\n",
    "data_dtype = data_on_disk[0][0].dtype\n",
    "filter_delay = self.calc_filter_delay(filter_coeff)\n",
    "        \n",
    "for a_start, a_stop in valid_times:\n",
    "    if a_start < timestamps_on_disk[0]:\n",
    "        raise Warning('Interval start time %f is smaller than first timestamp %f, using first timestamp instead' % (\n",
    "            a_start, timestamps_on_disk[0]))\n",
    "        a_start = timestamps_on_disk[0]\n",
    "    if a_stop > timestamps_on_disk[-1]:\n",
    "        raise Warning('Interval stop time %f is larger than last timestamp %f, using last timestamp instead' % (\n",
    "            a_stop, timestamps_on_disk[-1]))\n",
    "        a_stop = timestamps_on_disk[-1]\n",
    "    frm, to = np.searchsorted(timestamps_on_disk, (a_start, a_stop))\n",
    "    if to > n_samples:\n",
    "        to = n_samples\n",
    "    indices.append((frm, to))\n",
    "    shape, dtype = gsp.filter_data_fir(data_on_disk,\n",
    "                                            filter_coeff,\n",
    "                                            axis=time_axis,\n",
    "                                            input_index_bounds=[frm, to-1],\n",
    "                                            output_index_bounds=[\n",
    "                                                filter_delay, filter_delay + to - frm],\n",
    "                                            describe_dims=True,\n",
    "                                            ds=decimation,\n",
    "                                            input_dim_restrictions=input_dim_restrictions)\n",
    "    output_offsets.append(output_offsets[-1] + shape[time_axis])\n",
    "    output_shape_list[time_axis] += shape[time_axis]\n",
    "\n",
    "        # open the nwb file to create the dynamic table region and electrode series, then write and close the file\n",
    "with pynwb.NWBHDF5IO(path=analysis_file_abs_path, mode=\"a\", load_namespaces=True) as io:\n",
    "    nwbf = io.read()\n",
    "            # get the indices of the electrodes in the electrode table\n",
    "    elect_ind = get_electrode_indices(nwbf, electrode_ids)\n",
    "\n",
    "    electrode_table_region = nwbf.create_electrode_table_region(\n",
    "        elect_ind, 'filtered electrode table')\n",
    "    eseries_name = 'filtered data'\n",
    "    es = pynwb.ecephys.ElectricalSeries(name=eseries_name,\n",
    "                                                data=np.empty(\n",
    "                                                    tuple(output_shape_list), dtype=data_dtype),\n",
    "                                                electrodes=electrode_table_region,\n",
    "                                                timestamps=np.empty(output_shape_list[time_axis]))\n",
    "            # Add the electrical series to the scratch area\n",
    "    nwbf.add_scratch(es)\n",
    "    io.write(nwbf)\n",
    "\n",
    "            # reload the NWB file to get the h5py objects for the data and the timestamps\n",
    "    with pynwb.NWBHDF5IO(path=analysis_file_abs_path, mode=\"a\", load_namespaces=True) as io:\n",
    "        nwbf = io.read()\n",
    "        es = nwbf.objects[es.object_id]\n",
    "        filtered_data = es.data\n",
    "        new_timestamps = es.timestamps\n",
    "        indices = np.array(indices, ndmin=2)\n",
    "                # Filter and write the output dataset\n",
    "        ts_offset = 0\n",
    "\n",
    "\n",
    "        print('Filtering data')\n",
    "        for ii, (start, stop) in enumerate(indices):\n",
    "                    # calculate the size of the timestamps and the data and determine whether they\n",
    "                    # can be loaded into < 90% of available RAM\n",
    "            mem = psutil.virtual_memory()\n",
    "            interval_samples = stop-start\n",
    "            if interval_samples * (timestamp_size +  n_electrodes*data_size) < 0.9 * mem.available:\n",
    "                print(f'Interval {ii}: loading data into memory')\n",
    "                timestamps = np.asarray(timestamps_on_disk[start:stop], dtype=timestamp_dtype)\n",
    "                if time_axis == 0:\n",
    "                    data = np.asarray(data_on_disk[start:stop, :], dtype=data_dtype)\n",
    "                else:\n",
    "                    data = np.asarray(data_on_disk[:, start:stop], dtype=data_dtype)\n",
    "                extracted_ts = timestamps[0::decimation]\n",
    "                new_timestamps[ts_offset:ts_offset +\n",
    "                        len(extracted_ts)] = extracted_ts\n",
    "                ts_offset += len(extracted_ts)\n",
    "                        # filter the data\n",
    "                gsp.filter_data_fir(data,\n",
    "                                            filter_coeff,\n",
    "                                            axis=time_axis,\n",
    "                                            input_index_bounds=[0, interval_samples-1],\n",
    "                                            output_index_bounds=[\n",
    "                                                filter_delay, filter_delay + stop - start],\n",
    "                                            ds=decimation,\n",
    "                                            input_dim_restrictions=input_dim_restrictions,\n",
    "                                            outarray=filtered_data,\n",
    "                                            output_offset=output_offsets[ii])\n",
    "            else:\n",
    "                print(f'Interval {ii}: leaving data on disk')\n",
    "                data = data_on_disk\n",
    "                timestamps = timestamps_on_disk\n",
    "                extracted_ts = timestamps[start:stop:decimation]\n",
    "                new_timestamps[ts_offset:ts_offset +\n",
    "                                    len(extracted_ts)] = extracted_ts\n",
    "                ts_offset += len(extracted_ts)\n",
    "                        # filter the data\n",
    "                gsp.filter_data_fir(data,\n",
    "                                    filter_coeff,\n",
    "                                    axis=time_axis,\n",
    "                                    input_index_bounds=[start, stop],\n",
    "                                    output_index_bounds=[\n",
    "                                        filter_delay, filter_delay + stop - start],\n",
    "                                    ds=decimation,\n",
    "                                    input_dim_restrictions=input_dim_restrictions,\n",
    "                                    outarray=filtered_data,\n",
    "                                    output_offset=output_offsets[ii])\n",
    "\n",
    "        start_end = [new_timestamps[0], new_timestamps[-1]]\n",
    "\n",
    "        io.write(nwbf)\n",
    "\n",
    "# return es.object_id, start_end"
   ]
  },
  {
   "cell_type": "code",
   "execution_count": null,
   "id": "8b79f2fb-f36a-418b-890c-267aee7f3440",
   "metadata": {},
   "outputs": [],
   "source": [
    "\n"
   ]
  }
 ],
 "metadata": {
  "kernelspec": {
   "display_name": "Python [conda env:anaconda3]",
   "language": "python",
   "name": "conda-env-anaconda3-py"
  },
  "language_info": {
   "codemirror_mode": {
    "name": "ipython",
    "version": 3
   },
   "file_extension": ".py",
   "mimetype": "text/x-python",
   "name": "python",
   "nbconvert_exporter": "python",
   "pygments_lexer": "ipython3",
   "version": "3.8.8"
  }
 },
 "nbformat": 4,
 "nbformat_minor": 5
}
